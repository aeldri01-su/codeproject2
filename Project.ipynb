{
 "cells": [
  {
   "cell_type": "markdown",
   "metadata": {},
   "source": [
    "# Algorithm\n",
    "* Inputs:\n",
    "1. user sentence/(file?)\n",
    "* Outpts:\n",
    "1. sentence with better words\n",
    "* Algorthim\n",
    "1. Make the dictionary\n",
    "2. prompt user to specify file or sentence\n",
    "3. >sentence: split sentence into a list\n",
    "3. >sentnece: check if dictionary = list\n",
    "4. >sentence: randomly replace old word with new one\n",
    "5. >sentence: print new sentence\n",
    "3. >file: split file into every line is a list in a dictionary\n",
    "4. >file: check every word in the dictionary lists to see if it equals our thesarous\n",
    "5. >file: output replaced file."
   ]
  },
  {
   "cell_type": "code",
   "execution_count": 1,
   "metadata": {},
   "outputs": [],
   "source": [
    "import json\n",
    "import requests\n",
    "def get_file(u_input):\n",
    "    symbol = u_input #The word to be enteredd\n",
    "    url = \"https://www.dictionaryapi.com/api/v3/references/thesaurus/json/\" +symbol+\"?key=46fce8b2-2616-41ec-ac19-257173592e07\"\n",
    "    the = requests.get(url)\n",
    "    b = the.json()\n",
    "    return b #returns b, which is the list of dictionaries, the file"
   ]
  },
  {
   "cell_type": "code",
   "execution_count": 16,
   "metadata": {},
   "outputs": [],
   "source": [
    "def choose_syns(adjectives, test_word):\n",
    "    list_number  = 0\n",
    "    if adjectives[1]:\n",
    "        for words in adjectives:\n",
    "            test_word = words[1]\n",
    "            good_word = input(\"Is $s similar to %s (Yes/No)\" % (test_word, adjective))\n",
    "            if good_word.lower() == 'yes':\n",
    "                return list_number\n",
    "            elif good_word.lower() == 'no':\n",
    "                list_number += 1\n",
    "            else:\n",
    "                print(\"please enter a either yes or no\")\n",
    "                \n",
    "def use_list(list_of_lists, choose_syns_output):\n",
    "    chosen_syns_output = choose_syns(line_number)\n",
    "    \n",
    "    \n",
    "    \n",
    "            \n",
    "    "
   ]
  },
  {
   "cell_type": "code",
   "execution_count": 17,
   "metadata": {},
   "outputs": [
    {
     "name": "stdout",
     "output_type": "stream",
     "text": [
      "[['fluky', 'fortuitous', 'fortunate', 'heaven-sent', 'lucky', 'providential'], ['blissful', 'chuffed', 'delighted', 'glad', 'gratified', 'joyful', 'joyous', 'pleased', 'satisfied', 'thankful', 'tickled'], ['content', 'contented', 'gratified', 'pleased', 'satisfied'], ['fortunate', 'lucky'], ['applicable', 'appropriate', 'apt', 'becoming', 'befitting', 'felicitous', 'fit', 'fitted', 'fitting', 'good', 'meet', 'pretty', 'proper', 'right', 'suitable'], ['hung up', 'obsessed', 'queer']]\n"
     ]
    }
   ],
   "source": [
    "def find_syns(file):\n",
    "     for meta in file:\n",
    "            for values in meta.values():\n",
    "                if 'syns' in values:\n",
    "                    new_words_t = values['syns']\n",
    "                    new_words = new_words_t #selects only the first list\n",
    "                    return new_words #returns a list of the synonyms\n",
    "                    \n",
    "#find_syns(get_file(\"\"))\n",
    "                \n",
    "print(find_syns(get_file('happy')))\n",
    "                "
   ]
  },
  {
   "cell_type": "code",
   "execution_count": 11,
   "metadata": {},
   "outputs": [],
   "source": [
    "def test_adjective(word): #tests if the word is an adjective\n",
    "    try:\n",
    "        file = get_file(word)\n",
    "        for meta in file:\n",
    "            for values in meta.values():\n",
    "                if meta['fl'] == 'adjective':\n",
    "                    return True\n",
    "                else:\n",
    "                    return False\n",
    "    except: \n",
    "        return False"
   ]
  },
  {
   "cell_type": "code",
   "execution_count": 13,
   "metadata": {},
   "outputs": [
    {
     "name": "stdout",
     "output_type": "stream",
     "text": [
      "Enter a word: I went to the gloomy beach today and I had a great time with my amazing friends.\n",
      "I went to universal darkening beach today and I had sharp expert time with my eye-opening friends. \n"
     ]
    }
   ],
   "source": [
    "#Start\n",
    "import random\n",
    "\n",
    "#for blah in diction.values():\n",
    "#    for values in blah:\n",
    "#        print(values)\n",
    "        \n",
    "#find_syns(get_file(\"\"))\n",
    "\n",
    "\n",
    "    \n",
    "def replace_sentence(u_input):\n",
    "    u_input = u_input.split()\n",
    "    n_word = ''\n",
    "    #syns_list = find_syns(get_file(\"\")) #TEMPORRARY\n",
    "    #print(syns_list)\n",
    "    for word in u_input:\n",
    "        if test_adjective(word) == True:\n",
    "            syns_l = find_syns(get_file(word))\n",
    "            random_n = random.randrange(0,len(syns_l))\n",
    "            v_random = syns_l[random_n]\n",
    "            word2 = word.replace(word,v_random)\n",
    "            n_word += word2 +\" \"\n",
    "        else:\n",
    "            n_word += word+\" \"\n",
    "    return n_word\n",
    "            #tester = False\n",
    "            \n",
    "            \n",
    "            #for key in diction:\n",
    "                #value = diction[key]\n",
    "                #if key == word:\n",
    "                   # random_n = random.randrange(0,len(value))\n",
    "#                    v_random = value[random_n]\n",
    "#                    word2 = word.replace(word,v_random)\n",
    "#                    n_word += word2\n",
    "#                    tester = True\n",
    "#            if tester == False:\n",
    "#                n_word += word+\" \"\n",
    "#        return n_word\n",
    "#print(replace_sentence(\"I am happy\"))\n",
    "print(replace_sentence(input(\"Enter a word: \")))"
   ]
  },
  {
   "cell_type": "code",
   "execution_count": null,
   "metadata": {},
   "outputs": [],
   "source": [
    "print()"
   ]
  }
 ],
 "metadata": {
  "kernelspec": {
   "display_name": "Python 3",
   "language": "python",
   "name": "python3"
  },
  "language_info": {
   "codemirror_mode": {
    "name": "ipython",
    "version": 3
   },
   "file_extension": ".py",
   "mimetype": "text/x-python",
   "name": "python",
   "nbconvert_exporter": "python",
   "pygments_lexer": "ipython3",
   "version": "3.6.6"
  }
 },
 "nbformat": 4,
 "nbformat_minor": 2
}
