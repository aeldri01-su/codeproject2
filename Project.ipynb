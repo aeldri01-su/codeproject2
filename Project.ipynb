{
 "cells": [
  {
   "cell_type": "markdown",
   "metadata": {},
   "source": [
    "# Algorithm\n",
    "* Inputs:\n",
    "1. user sentence/(file?)\n",
    "* Outpts:\n",
    "1. sentence with better words\n",
    "* Algorthim\n",
    "1. Make the dictionary\n",
    "2. prompt user to specify file or sentence\n",
    "3. >sentence: split sentence into a list\n",
    "3. >sentnece: check if dictionary = list\n",
    "4. >sentence: randomly replace old word with new one\n",
    "5. >sentence: print new sentence\n",
    "3. >file: split file into every line is a list in a dictionary\n",
    "4. >file: check every word in the dictionary lists to see if it equals our thesarous\n",
    "5. >file: output replaced file."
   ]
  },
  {
   "cell_type": "code",
   "execution_count": 20,
   "metadata": {},
   "outputs": [
    {
     "name": "stdout",
     "output_type": "stream",
     "text": [
      "[{'meta': {'id': 'very', 'uuid': '2a41f3e9-e256-40f8-946c-6c47c9b97350', 'src': 'coll_thes', 'section': 'alpha', 'target': {'tuuid': '524498a3-c354-4691-a0d5-bc3d76be6ec2', 'tsrc': 'collegiate'}, 'stems': ['very', 'verier', 'veriest'], 'syns': [['identical', 'same', 'selfsame'], ['bare', 'mere'], ['actual', 'concrete', 'de facto', 'effective', 'existent', 'factual', 'genuine', 'real', 'sure-enough', 'true'], ['absolute', 'all-out', 'arrant', 'blank', 'blooming', 'bodacious', 'categorical', 'clean', 'complete', 'consummate', 'cotton-picking', 'crashing', 'damn', 'damned', 'dead', 'deadly', 'definite', 'downright', 'dreadful', 'fair', 'flat', 'flat-out', 'out-and-out', 'outright', 'perfect', 'plumb', 'profound', 'pure', 'rank', 'regular', 'sheer', 'simple', 'stark', 'stone', 'straight-out', 'thorough', 'thoroughgoing', 'total', 'unadulterated', 'unalloyed', 'unconditional', 'unmitigated', 'unqualified', 'utter']], 'ants': [['another', 'different', 'other'], ['conjectural', 'hypothetical', 'ideal', 'inexistent', 'nonexistent', 'platonic', 'possible', 'potential', 'suppositional', 'theoretical']], 'offensive': False}, 'hwi': {'hw': 'very'}, 'fl': 'adjective', 'def': [{'sseq': [[['sense', {'sn': '1', 'dt': [['text', 'being one and not another '], ['vis', [{'t': 'we stayed in the {it}very{/it} hotel my parents stayed in for their honeymoon'}]]], 'syn_list': [[{'wd': 'identical'}, {'wd': 'same'}, {'wd': 'selfsame'}]], 'near_list': [[{'wd': 'differentiable'}, {'wd': 'discriminable'}, {'wd': 'disparate'}, {'wd': 'dissimilar'}, {'wd': 'distinct'}, {'wd': 'distinctive'}, {'wd': 'distinguishable'}, {'wd': 'diverse'}, {'wd': 'unalike'}, {'wd': 'unlike'}, {'wd': 'varied'}, {'wd': 'various'}]], 'ant_list': [[{'wd': 'another'}, {'wd': 'different'}, {'wd': 'other'}]]}]], [['sense', {'sn': '2', 'dt': [['text', 'being this and no more '], ['vis', [{'t': 'the {it}very{/it} thought of having to go through that again is scary'}]]], 'syn_list': [[{'wd': 'bare'}, {'wd': 'mere'}]], 'rel_list': [[{'wd': 'absolute'}, {'wd': 'all-out'}, {'wd': 'arrant'}, {'wd': 'out-and-out'}, {'wd': 'outright'}, {'wd': 'pure'}, {'wd': 'sheer'}, {'wd': 'simple'}, {'wd': 'stark'}, {'wd': 'total'}, {'wd': 'unadulterated'}, {'wd': 'unalloyed'}, {'wd': 'unmitigated'}, {'wd': 'unqualified'}, {'wd': 'utter'}], [{'wd': 'alone'}, {'wd': 'lone'}, {'wd': 'only'}, {'wd': 'singular'}, {'wd': 'sole'}, {'wd': 'solitary'}, {'wd': 'solo'}, {'wd': 'unique'}]]}]], [['sense', {'sn': '3', 'dt': [['text', 'existing in fact and not merely as a possibility '], ['vis', [{'t': 'tourism is the {it}very{/it} lifeblood of this community—the town would surely die without it'}]]], 'syn_list': [[{'wd': 'actual'}, {'wd': 'concrete'}, {'wd': 'de facto'}, {'wd': 'effective'}, {'wd': 'existent'}, {'wd': 'factual'}, {'wd': 'genuine'}, {'wd': 'real'}, {'wd': 'sure-enough'}, {'wd': 'true'}]], 'rel_list': [[{'wd': 'attested'}, {'wd': 'authenticated'}, {'wd': 'confirmed'}, {'wd': 'demonstrated'}, {'wd': 'established'}, {'wd': 'proven'}, {'wd': 'substantiated'}, {'wd': 'valid'}, {'wd': 'validated'}, {'wd': 'verified'}], [{'wd': 'incontestable'}, {'wd': 'incontrovertible'}, {'wd': 'indisputable'}, {'wd': 'indubitable'}, {'wd': 'inescapable'}, {'wd': 'irrefutable'}, {'wd': 'undeniable'}, {'wd': 'unquestionable'}], [{'wd': 'believable'}, {'wd': 'convincing'}, {'wd': 'literal'}, {'wd': 'realistic'}, {'wd': 'unmistakable'}, {'wd': 'verifiable'}], [{'wd': 'authentic'}, {'wd': 'bona fide'}, {'wd': 'real-life'}, {'wd': 'real-world'}], [{'wd': 'absolute'}, {'wd': 'certain'}, {'wd': 'final'}, {'wd': 'hard'}, {'wd': 'objective'}, {'wd': 'palpable'}, {'wd': 'positive'}, {'wd': 'substantial'}, {'wd': 'tangible'}], [{'wd': 'authoritative'}, {'wd': 'certifiable'}, {'wd': 'certified'}]], 'near_list': [[{'wd': 'alleged'}, {'wd': 'assumed'}, {'wd': 'reputed'}, {'wd': 'supposed'}], [{'wd': 'conceived'}, {'wd': 'envisaged'}, {'wd': 'envisioned'}, {'wd': 'imagined'}, {'wd': 'pictured'}, {'wd': 'visualized'}], [{'wd': 'chimerical', 'wvrs': [{'wvl': 'also', 'wva': 'chimeric'}]}, {'wd': 'fabled'}, {'wd': 'fanciful'}, {'wd': 'fictional'}, {'wd': 'fictitious'}, {'wd': 'illusory'}, {'wd': 'legendary'}], [{'wd': 'fabricated'}, {'wd': 'fake'}, {'wd': 'imaginary'}, {'wd': 'invented'}, {'wd': 'made-up'}, {'wd': 'make-believe'}, {'wd': 'pretend'}, {'wd': 'romantic'}], [{'wd': 'abstract'}, {'wd': 'symbolic'}, {'wd': 'unreal'}], [{'wd': 'virtual'}]], 'ant_list': [[{'wd': 'conjectural'}, {'wd': 'hypothetical'}, {'wd': 'ideal'}, {'wd': 'inexistent'}, {'wd': 'nonexistent'}, {'wd': 'platonic'}, {'wd': 'possible'}, {'wd': 'potential'}, {'wd': 'suppositional'}, {'wd': 'theoretical', 'wvrs': [{'wvl': 'also', 'wva': 'theoretic'}]}]]}]], [['sense', {'sn': '4', 'dt': [['text', 'having no exceptions or restrictions '], ['vis', [{'t': 'the {it}very{/it} nerve of that woman—telling me how to raise my own children'}]]], 'syn_list': [[{'wd': 'absolute'}, {'wd': 'all-out'}, {'wd': 'arrant'}, {'wd': 'blank'}, {'wd': 'blooming', 'wsls': ['chiefly British']}, {'wd': 'bodacious', 'wsls': ['Southern & Midland']}, {'wd': 'categorical', 'wvrs': [{'wvl': 'also', 'wva': 'categoric'}]}, {'wd': 'clean'}, {'wd': 'complete'}, {'wd': 'consummate'}, {'wd': 'cotton-picking'}, {'wd': 'crashing'}, {'wd': 'damn'}, {'wd': 'damned'}, {'wd': 'dead'}, {'wd': 'deadly'}, {'wd': 'definite'}, {'wd': 'downright'}, {'wd': 'dreadful'}, {'wd': 'fair'}, {'wd': 'flat'}, {'wd': 'flat-out'}, {'wd': 'out-and-out'}, {'wd': 'outright'}, {'wd': 'perfect'}, {'wd': 'plumb'}, {'wd': 'profound'}, {'wd': 'pure'}, {'wd': 'rank'}, {'wd': 'regular'}, {'wd': 'sheer'}, {'wd': 'simple'}, {'wd': 'stark'}, {'wd': 'stone'}, {'wd': 'straight-out'}, {'wd': 'thorough'}, {'wd': 'thoroughgoing'}, {'wd': 'total'}, {'wd': 'unadulterated'}, {'wd': 'unalloyed'}, {'wd': 'unconditional'}, {'wd': 'unmitigated'}, {'wd': 'unqualified'}, {'wd': 'utter'}]], 'rel_list': [[{'wd': 'authentic'}, {'wd': 'classic'}, {'wd': 'genuine'}, {'wd': 'real'}, {'wd': 'veritable'}], [{'wd': 'constant'}, {'wd': 'endless'}, {'wd': 'eternal'}, {'wd': 'perpetual'}, {'wd': 'undying'}, {'wd': 'unremitting'}], [{'wd': 'extreme'}, {'wd': 'unrestricted'}], [{'wd': 'confirmed'}, {'wd': 'habitual'}, {'wd': 'hopeless'}, {'wd': 'inveterate'}], [{'wd': 'extraordinary'}, {'wd': 'frightful'}, {'wd': 'horrible'}, {'wd': 'huge'}, {'wd': 'main'}, {'wd': 'superlative'}, {'wd': 'supreme'}, {'wd': 'surpassing'}, {'wd': 'terrible'}, {'wd': 'terrific'}]], 'near_list': [[{'wd': 'doubtful'}, {'wd': 'dubious'}, {'wd': 'equivocal'}, {'wd': 'qualified'}, {'wd': 'questionable'}, {'wd': 'restricted'}, {'wd': 'uncertain'}]]}]]]}], 'shortdef': ['being one and not another', 'being this and no more', 'existing in fact and not merely as a possibility']}, {'meta': {'id': 'very', 'uuid': '22843672-56be-4df2-87cc-22b2ad0dda4d', 'src': 'coll_thes', 'section': 'alpha', 'target': {'tuuid': '74a78cac-7d15-49f4-896d-f604473cf2e9', 'tsrc': 'collegiate'}, 'stems': ['very'], 'syns': [['achingly', 'almighty', 'archly', 'awful', 'awfully', 'badly', 'beastly', 'blisteringly', 'bone', 'colossally', 'corking', 'cracking', 'damn', 'damned', 'dang', 'deadly', 'desperately', 'eminently', 'enormously', 'especially', 'ever', 'exceedingly', 'extra', 'extremely', 'fabulously', 'fantastically', 'far', 'fiercely', 'filthy', 'frightfully', 'full', 'greatly', 'heavily', 'highly', 'hugely', 'immensely', 'incredibly', 'intensely', 'jolly', 'majorly', 'mightily', 'mighty', 'monstrous', 'mortally', 'most', 'much', 'particularly', 'passing', 'rattling', 'real', 'really', 'right', 'roaring', 'roaringly', 'seriously', 'severely', 'so', 'sore', 'sorely', 'spanking', 'specially', 'stinking', 'such', 'super', 'supremely', 'surpassingly', 'terribly', 'that', 'thumping', 'too', 'unco', 'uncommonly', 'vastly', 'vitally', 'way', 'whacking', 'wicked', 'wildly'], ['actually', 'authentically', 'certifiably', 'genuinely', 'really', 'truly', 'veritably']], 'ants': [['little', 'negligibly', 'nominally', 'slightly', 'somewhat'], ['professedly', 'supposedly']], 'offensive': False}, 'hwi': {'hw': 'very'}, 'fl': 'adverb', 'def': [{'sseq': [[['sense', {'sn': '1', 'dt': [['text', 'to a great degree '], ['vis', [{'t': 'that was a {it}very{/it} brave thing to do'}]]], 'syn_list': [[{'wd': 'achingly'}, {'wd': 'almighty'}, {'wd': 'archly'}, {'wd': 'awful'}, {'wd': 'awfully'}, {'wd': 'badly'}, {'wd': 'beastly'}, {'wd': 'blisteringly'}, {'wd': 'bone'}, {'wd': 'colossally'}, {'wd': 'corking'}, {'wd': 'cracking'}, {'wd': 'damn'}, {'wd': 'damned'}, {'wd': 'dang'}, {'wd': 'deadly'}, {'wd': 'desperately'}, {'wd': 'eminently'}, {'wd': 'enormously'}, {'wd': 'especially'}, {'wd': 'ever'}, {'wd': 'exceedingly', 'wvrs': [{'wvl': 'also', 'wva': 'exceeding'}]}, {'wd': 'extra'}, {'wd': 'extremely'}, {'wd': 'fabulously'}, {'wd': 'fantastically'}, {'wd': 'far'}, {'wd': 'fiercely'}, {'wd': 'filthy'}, {'wd': 'frightfully'}, {'wd': 'full'}, {'wd': 'greatly'}, {'wd': 'heavily'}, {'wd': 'highly'}, {'wd': 'hugely'}, {'wd': 'immensely'}, {'wd': 'incredibly'}, {'wd': 'intensely'}, {'wd': 'jolly'}, {'wd': 'majorly'}, {'wd': 'mightily'}, {'wd': 'mighty'}, {'wd': 'monstrous', 'wsls': ['chiefly dialect']}, {'wd': 'mortally'}, {'wd': 'most'}, {'wd': 'much'}, {'wd': 'particularly'}, {'wd': 'passing'}, {'wd': 'rattling'}, {'wd': 'real'}, {'wd': 'really'}, {'wd': 'right'}, {'wd': 'roaring'}, {'wd': 'roaringly'}, {'wd': 'seriously'}, {'wd': 'severely'}, {'wd': 'so'}, {'wd': 'sore'}, {'wd': 'sorely'}, {'wd': 'spanking'}, {'wd': 'specially'}, {'wd': 'stinking'}, {'wd': 'such'}, {'wd': 'super'}, {'wd': 'supremely'}, {'wd': 'surpassingly'}, {'wd': 'terribly'}, {'wd': 'that'}, {'wd': 'thumping'}, {'wd': 'too'}, {'wd': 'unco'}, {'wd': 'uncommonly'}, {'wd': 'vastly'}, {'wd': 'vitally'}, {'wd': 'way'}, {'wd': 'whacking'}, {'wd': 'wicked'}, {'wd': 'wildly'}]], 'rel_list': [[{'wd': 'absolutely'}, {'wd': 'altogether'}, {'wd': 'completely'}, {'wd': 'downright'}, {'wd': 'entirely'}, {'wd': 'flat-out'}, {'wd': 'fully'}, {'wd': 'positively'}, {'wd': 'purely'}, {'wd': 'radically'}, {'wd': 'thoroughly'}, {'wd': 'totally'}, {'wd': 'utterly'}, {'wd': 'wholly'}], [{'wd': 'deeply'}, {'wd': 'profoundly'}], [{'wd': 'exceptionally'}, {'wd': 'notably'}, {'wd': 'remarkably'}], [{'wd': 'considerably'}, {'wd': 'extensively'}, {'wd': 'significantly'}, {'wd': 'substantially'}], [{'wd': 'appreciably'}, {'wd': 'discernibly'}, {'wd': 'markedly'}, {'wd': 'noticeably'}, {'wd': 'obviously'}, {'wd': 'palpably'}, {'wd': 'plainly'}, {'wd': 'visibly'}], [{'wd': 'abundantly'}, {'wd': 'plentifully'}], [{'wd': 'astronomically'}, {'wd': 'grandly'}, {'wd': 'monstrously'}, {'wd': 'monumentally'}], [{'wd': 'excessively'}, {'wd': 'obscenely'}, {'wd': 'overmuch'}], [{'wd': 'amazingly'}, {'wd': 'astonishingly'}, {'wd': 'staggeringly'}]], 'phrase_list': [[{'wd': 'a lot'}, {'wd': 'as all get-out'}, {'wd': 'good and'}]], 'near_list': [[{'wd': 'meagerly'}, {'wd': 'scantily'}], [{'wd': 'barely'}, {'wd': 'hardly'}, {'wd': 'just'}, {'wd': 'marginally'}, {'wd': 'minimally'}, {'wd': 'scarcely'}]], 'ant_list': [[{'wd': 'little'}, {'wd': 'negligibly'}, {'wd': 'nominally'}, {'wd': 'slightly'}, {'wd': 'somewhat'}]]}]], [['sense', {'sn': '2', 'dt': [['text', 'in actual fact '], ['vis', [{'t': 'the {it}very{/it} same thing happened to me'}]]], 'syn_list': [[{'wd': 'actually'}, {'wd': 'authentically'}, {'wd': 'certifiably'}, {'wd': 'genuinely'}, {'wd': 'really'}, {'wd': 'truly'}, {'wd': 'veritably'}]], 'rel_list': [[{'wd': 'accurately'}, {'wd': 'exactly'}, {'wd': 'just'}, {'wd': 'precisely'}, {'wd': 'right'}, {'wd': 'sharp'}, {'wd': 'smack-dab'}, {'wd': 'squarely'}], [{'wd': 'almost'}, {'wd': 'nearly'}, {'wd': 'practically'}, {'wd': 'virtually'}], [{'wd': 'literally'}, {'wd': 'positively'}, {'wd': 'simply'}]], 'phrase_list': [[{'wd': 'in actuality'}, {'wd': 'in reality'}, {'wd': 'in truth'}]], 'near_list': [[{'wd': 'apparently'}, {'wd': 'ostensibly'}, {'wd': 'outwardly'}, {'wd': 'plausibly'}, {'wd': 'seemingly'}]], 'ant_list': [[{'wd': 'professedly'}, {'wd': 'supposedly'}]]}]]]}], 'shortdef': ['to a great degree', 'in actual fact']}]\n"
     ]
    }
   ],
   "source": [
    "import json\n",
    "import requests\n",
    "def get_file(u_input):\n",
    "    symbol = u_input #The word to be entered\n",
    "    url = \"https://www.dictionaryapi.com/api/v3/references/thesaurus/json/\" +symbol+\"?key=46fce8b2-2616-41ec-ac19-257173592e07\"\n",
    "    the = requests.get(url)\n",
    "    b = the.json()\n",
    "    return b #returns b, which is the list of dictionaries, the file\n",
    "print(get_file('very'))"
   ]
  },
  {
   "cell_type": "code",
   "execution_count": 2,
   "metadata": {},
   "outputs": [
    {
     "data": {
      "text/plain": [
       "[['fluky', 'fortuitous', 'fortunate', 'heaven-sent', 'lucky', 'providential'],\n",
       " ['blissful',\n",
       "  'chuffed',\n",
       "  'delighted',\n",
       "  'glad',\n",
       "  'gratified',\n",
       "  'joyful',\n",
       "  'joyous',\n",
       "  'pleased',\n",
       "  'satisfied',\n",
       "  'thankful',\n",
       "  'tickled'],\n",
       " ['content', 'contented', 'gratified', 'pleased', 'satisfied'],\n",
       " ['fortunate', 'lucky'],\n",
       " ['applicable',\n",
       "  'appropriate',\n",
       "  'apt',\n",
       "  'becoming',\n",
       "  'befitting',\n",
       "  'felicitous',\n",
       "  'fit',\n",
       "  'fitted',\n",
       "  'fitting',\n",
       "  'good',\n",
       "  'meet',\n",
       "  'pretty',\n",
       "  'proper',\n",
       "  'right',\n",
       "  'suitable'],\n",
       " ['hung up', 'obsessed', 'queer']]"
      ]
     },
     "execution_count": 2,
     "metadata": {},
     "output_type": "execute_result"
    }
   ],
   "source": [
    "def find_syns(file):\n",
    "     for meta in file:\n",
    "            for values in meta.values():\n",
    "                if 'syns' in values:\n",
    "                    new_words_t = values['syns']\n",
    "                    new_words = new_words_t \n",
    "                    return new_words #returns a list of lists of synonyms\n",
    "find_syns(get_file(\"happy\"))"
   ]
  },
  {
   "cell_type": "code",
   "execution_count": 18,
   "metadata": {},
   "outputs": [
    {
     "name": "stdout",
     "output_type": "stream",
     "text": [
      "Is Happy similar to fluky (Yes/No)yes\n"
     ]
    },
    {
     "data": {
      "text/plain": [
       "0"
      ]
     },
     "execution_count": 18,
     "metadata": {},
     "output_type": "execute_result"
    }
   ],
   "source": [
    "def choose_syns(adjectives, user_word): #takes the list of lists, and asks the user which list they want.\n",
    "    list_number  = 0\n",
    "    num_loops = 0\n",
    "    #print(adjectives)\n",
    "    if len(adjectives) > 0:\n",
    "        full_tester = False\n",
    "        while full_tester == False: #The while loop allows the program to run until the user says yes\n",
    "            for lists in adjectives:\n",
    "                if len(adjectives) == list_number:#The if statement resets list_number after all lists have been tested\n",
    "                    list_number = 0\n",
    "                random_num = random.randrange(0,len(lists))\n",
    "                test_word = lists[random_num]\n",
    "                #print(lists)\n",
    "                syn_tester = False\n",
    "                while syn_tester == False:\n",
    "                    good_word = input(\"Is %s similar to %s (Yes/No)\" % (user_word,test_word))\n",
    "                    if good_word.lower() == 'yes':\n",
    "                        syn_tester = True\n",
    "                        full_tester = True\n",
    "                        return list_number\n",
    "                    elif good_word.lower() == 'no':\n",
    "                        syn_tester = True\n",
    "                        list_number += 1\n",
    "                    else:\n",
    "                        print(\"please enter a either yes or no\")\n",
    "                        syn_tester = False\n",
    "    else:\n",
    "        list_number = 0\n",
    "        return list_number #returns which number list to select\n",
    "\n",
    "\n",
    "choose_syns(find_syns(get_file(\"Happy\")), 'Happy')\n",
    "    "
   ]
  },
  {
   "cell_type": "code",
   "execution_count": 4,
   "metadata": {},
   "outputs": [],
   "source": [
    "#takes the list of lists, and chooses the one list.\n",
    "def use_list(find_syns_output, choose_syns_output):\n",
    "    real_syns_list = []\n",
    "    real_syns_list = find_syns_output[choose_syns_output]\n",
    "    return real_syns_list #returns one list\n",
    "    "
   ]
  },
  {
   "cell_type": "code",
   "execution_count": 5,
   "metadata": {},
   "outputs": [],
   "source": [
    "def test_adjective(word): #tests if the word is an adjective\n",
    "    try:\n",
    "        file = get_file(word)\n",
    "        for meta in file:\n",
    "            for values in meta.values():\n",
    "                if meta['fl'] == 'adjective':\n",
    "                    return True\n",
    "                else:\n",
    "                    return False\n",
    "    except: \n",
    "        return False"
   ]
  },
  {
   "cell_type": "code",
   "execution_count": 22,
   "metadata": {},
   "outputs": [
    {
     "name": "stdout",
     "output_type": "stream",
     "text": [
      "Enter a word: A apple is red\n",
      "Is A similar to fashionable (Yes/No)no\n",
      "Is A similar to sharp (Yes/No)no\n",
      "Is A similar to in (Yes/No)yes\n",
      "Is red similar to flush (Yes/No)yes\n",
      "in apple is rosy \n"
     ]
    }
   ],
   "source": [
    "#Start\n",
    "import random\n",
    "\n",
    "#for blah in diction.values():\n",
    "#    for values in blah:\n",
    "#        print(values)\n",
    "        \n",
    "#find_syns(get_file(\"\"))\n",
    "\n",
    "\n",
    "    \n",
    "def replace_sentence(u_input):\n",
    "    u_input = u_input.split()\n",
    "    n_word = ''\n",
    "    #syns_list = find_syns(get_file(\"\")) #TEMPORRARY\n",
    "    #print(syns_list)\n",
    "    for word in u_input:\n",
    "        if test_adjective(word) == True:\n",
    "            find_syns_output = find_syns(get_file(word))\n",
    "            #print(find_syns_output)\n",
    "            list_number = choose_syns(find_syns_output, word) #Returns list number\n",
    "            #print(list_number)\n",
    "            syns_l = use_list(find_syns_output,list_number) #returns one list of synonyms\n",
    "            #print(syns_l)\n",
    "            random_n = random.randrange(0,len(syns_l))#chooses a random number\n",
    "            v_random = syns_l[random_n] #chooses a random synonym\n",
    "            word2 = word.replace(word,v_random)#replaces word with synonym\n",
    "            n_word += word2 +\" \"\n",
    "        else:\n",
    "            n_word += word+\" \"\n",
    "    return n_word\n",
    "            #tester = False\n",
    "            \n",
    "            \n",
    "            #for key in diction:\n",
    "                #value = diction[key]\n",
    "                #if key == word:\n",
    "                   # random_n = random.randrange(0,len(value))\n",
    "#                    v_random = value[random_n]\n",
    "#                    word2 = word.replace(word,v_random)\n",
    "#                    n_word += word2\n",
    "#                    tester = True\n",
    "#            if tester == False:\n",
    "#                n_word += word+\" \"\n",
    "#        return n_word\n",
    "#print(replace_sentence(\"I am happy\"))\n",
    "print(replace_sentence(input(\"Enter a word: \")))"
   ]
  },
  {
   "cell_type": "code",
   "execution_count": null,
   "metadata": {},
   "outputs": [],
   "source": []
  },
  {
   "cell_type": "code",
   "execution_count": 7,
   "metadata": {},
   "outputs": [
    {
     "data": {
      "text/plain": [
       "3"
      ]
     },
     "execution_count": 7,
     "metadata": {},
     "output_type": "execute_result"
    }
   ],
   "source": [
    "3"
   ]
  },
  {
   "cell_type": "markdown",
   "metadata": {},
   "source": [
    "#Start\n",
    "import random\n",
    "\n",
    "#for blah in diction.values():\n",
    "#    for values in blah:\n",
    "#        print(values)\n",
    "        \n",
    "#find_syns(get_file(\"\"))\n",
    "\n",
    "\n",
    "    \n",
    "def replace_sentence(u_input):\n",
    "    u_input = u_input.split()\n",
    "    n_word = ''\n",
    "    #syns_list = find_syns(get_file(\"\")) #TEMPORRARY\n",
    "    #print(syns_list)\n",
    "    for word in u_input:\n",
    "        if test_adjective(word) == True:\n",
    "            syns_l = find_syns(get_file(word))\n",
    "            random_n = random.randrange(0,len(syns_l))\n",
    "            v_random = syns_l[random_n]\n",
    "            word2 = word.replace(word,v_random)\n",
    "            n_word += word2 +\" \"\n",
    "        else:\n",
    "            n_word += word+\" \"\n",
    "    return n_word\n",
    "            #tester = False\n",
    "            \n",
    "            \n",
    "            #for key in diction:\n",
    "                #value = diction[key]\n",
    "                #if key == word:\n",
    "                   # random_n = random.randrange(0,len(value))\n",
    "#                    v_random = value[random_n]\n",
    "#                    word2 = word.replace(word,v_random)\n",
    "#                    n_word += word2\n",
    "#                    tester = True\n",
    "#            if tester == False:\n",
    "#                n_word += word+\" \"\n",
    "#        return n_word\n",
    "#print(replace_sentence(\"I am happy\"))\n",
    "print(replace_sentence(input(\"Enter a word: \")))"
   ]
  }
 ],
 "metadata": {
  "kernelspec": {
   "display_name": "Python 3",
   "language": "python",
   "name": "python3"
  },
  "language_info": {
   "codemirror_mode": {
    "name": "ipython",
    "version": 3
   },
   "file_extension": ".py",
   "mimetype": "text/x-python",
   "name": "python",
   "nbconvert_exporter": "python",
   "pygments_lexer": "ipython3",
   "version": "3.6.6"
  }
 },
 "nbformat": 4,
 "nbformat_minor": 2
}
