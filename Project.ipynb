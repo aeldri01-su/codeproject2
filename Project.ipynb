{
 "cells": [
  {
   "cell_type": "markdown",
   "metadata": {},
   "source": [
    "# Algorithm\n",
    "* Inputs:\n",
    "1. user sentence/(file?)\n",
    "* Outpts:\n",
    "1. sentence with better words\n",
    "* Algorthim\n",
    "1. Make the dictionary\n",
    "2. prompt user to specify file or sentence\n",
    "3. >sentence: split sentence into a list\n",
    "3. >sentnece: check if dictionary = list\n",
    "4. >sentence: randomly replace old word with new one\n",
    "5. >sentence: print new sentence\n",
    "3. >file: split file into every line is a list in a dictionary\n",
    "4. >file: check every word in the dictionary lists to see if it equals our thesarous\n",
    "5. >file: output replaced file."
   ]
  },
  {
   "cell_type": "code",
   "execution_count": 1,
   "metadata": {},
   "outputs": [],
   "source": [
    "import json\n",
    "import requests\n",
    "def get_file(u_input):\n",
    "    symbol = u_input #The word to be entered\n",
    "    url = \"https://www.dictionaryapi.com/api/v3/references/thesaurus/json/\" +symbol+\"?key=46fce8b2-2616-41ec-ac19-257173592e07\"\n",
    "    the = requests.get(url)\n",
    "    b = the.json()\n",
    "    return b #returns b, which is the list of dictionaries, the file\n",
    "#print(get_file('very'))"
   ]
  },
  {
   "cell_type": "code",
   "execution_count": 2,
   "metadata": {},
   "outputs": [],
   "source": [
    "def find_syns(file):\n",
    "     for meta in file:\n",
    "            for values in meta.values():\n",
    "                if 'syns' in values:\n",
    "                    new_words_t = values['syns']\n",
    "                    new_words = new_words_t \n",
    "                    return new_words #returns a list of lists of synonyms\n",
    "#find_syns(get_file(\"happy\"))"
   ]
  },
  {
   "cell_type": "code",
   "execution_count": 3,
   "metadata": {},
   "outputs": [],
   "source": [
    "def choose_syns(adjectives, user_word): #takes the list of lists, and asks the user which list they want.\n",
    "    list_number  = 0\n",
    "#    num_loops = 0\n",
    "    #print(adjectives)\n",
    "    if len(adjectives) > 0:\n",
    "        full_tester = False\n",
    "        ask_user_tester = False\n",
    "        ask_user_run = True\n",
    "        while full_tester == False: #The while loop allows the program to run until the user says yes\n",
    "            for lists in adjectives:\n",
    "                random_num = random.randrange(0,len(lists))\n",
    "                test_word = lists[random_num]\n",
    "                syn_tester = False\n",
    "                while syn_tester == False:\n",
    "                    good_word = input(\"Is %s similar to %s (Yes/No)\" % (user_word,test_word))\n",
    "                    if good_word.lower() == 'yes': #The user wants that list \n",
    "                        syn_tester = True\n",
    "                        full_tester = True #ends the cycle of asking the user\n",
    "                        return list_number\n",
    "                    elif good_word.lower() == 'no': #the user does not want that list\n",
    "                        syn_tester = True\n",
    "                        list_number += 1\n",
    "                    else:                                \n",
    "                        print(\"please enter a either yes or no\")\n",
    "                        syn_tester = False\n",
    "                    if len(adjectives) == list_number:\n",
    "                        while ask_user_run == True:\n",
    "                            if ask_user_tester == False:\n",
    "                                ask_user = input(\"Do you want to keep the word as it is?(Yes,No) \")\n",
    "                                if ask_user.lower() == 'yes': #Asks the user if they wants to leave the word\n",
    "                                    full_tester == True #ends the cycle of asking the user\n",
    "                                    syn_tester = True\n",
    "                                    return 'False'\n",
    "                                elif ask_user.lower() == 'no':\n",
    "                                    ask_user_tester = True #will not ask the user again\n",
    "                                    ask_user_run = False\n",
    "                                else:\n",
    "                                    print(\"Please enter 'yes' or 'no'\")\n",
    "                                    ask_user_run = True #will not ask the user again\n",
    "                if len(adjectives) == list_number:#The if statement resets list_number after all lists have been tested\n",
    "                    list_number = 0\n",
    "    else:\n",
    "        list_number = 0\n",
    "        return list_number #returns which number list to select\n",
    "\n",
    "\n",
    "#choose_syns(find_syns(get_file(\"Happy\")), 'Happy')\n",
    "    "
   ]
  },
  {
   "cell_type": "code",
   "execution_count": 4,
   "metadata": {},
   "outputs": [],
   "source": [
    "#takes the list of lists, and chooses the one list.\n",
    "def use_list(find_syns_output, choose_syns_output, og_word):\n",
    "    if choose_syns_output != 'False':\n",
    "        real_syns_list = []\n",
    "        real_syns_list = find_syns_output[choose_syns_output]\n",
    "        return real_syns_list #returns one list\n",
    "    else:\n",
    "        og_word = str(og_word)\n",
    "        return og_word\n",
    "    "
   ]
  },
  {
   "cell_type": "code",
   "execution_count": 5,
   "metadata": {},
   "outputs": [],
   "source": [
    "def test_adjective(word): #tests if the word is an adjective\n",
    "    try:\n",
    "        file = get_file(word)\n",
    "        for meta in file:\n",
    "            for values in meta.values():\n",
    "                if meta['fl'] == 'adjective':\n",
    "                    return True #If the word is an adjective, return True\n",
    "                else:\n",
    "                    return False\n",
    "    except: \n",
    "        return False #if there is an error, assume it is not an adjective"
   ]
  },
  {
   "cell_type": "code",
   "execution_count": 6,
   "metadata": {},
   "outputs": [],
   "source": [
    "def exceptions(tested_word):\n",
    "    exe_words = ['a','the','very','much','not','on','in','so','eating','this'] #words for the program to skip over\n",
    "    for word in exe_words:\n",
    "        if tested_word.lower() == word.lower():\n",
    "            return True #If the word needs to be skipped over, return true\n",
    "    return False\n",
    "#tested_word = input('enter a word: ')\n",
    "#print(exceptions(tested_word))   \n"
   ]
  },
  {
   "cell_type": "code",
   "execution_count": null,
   "metadata": {},
   "outputs": [],
   "source": []
  },
  {
   "cell_type": "code",
   "execution_count": 15,
   "metadata": {},
   "outputs": [
    {
     "ename": "SyntaxError",
     "evalue": "'break' outside loop (<ipython-input-15-19d2b5612f81>, line 51)",
     "output_type": "error",
     "traceback": [
      "\u001b[1;36m  File \u001b[1;32m\"<ipython-input-15-19d2b5612f81>\"\u001b[1;36m, line \u001b[1;32m51\u001b[0m\n\u001b[1;31mSyntaxError\u001b[0m\u001b[1;31m:\u001b[0m 'break' outside loop\n"
     ]
    }
   ],
   "source": [
    "#Start\n",
    "import random\n",
    "    \n",
    "def replace_sentence(u_input):\n",
    "    u_input = u_input.split()\n",
    "    n_word = ''\n",
    "    for word in u_input:     \n",
    "        if test_adjective(word) == True:\n",
    "            if exceptions(word) == False:\n",
    "                find_syns_output = find_syns(get_file(word))\n",
    "                list_number = choose_syns(find_syns_output, word) #Returns list number\n",
    "                syns_l = use_list(find_syns_output,list_number,word) #returns one list of synonyms\\\n",
    "                if type(syns_l) != str:\n",
    "                    random_n = random.randrange(0,len(syns_l))#chooses a random number\n",
    "                    v_random = syns_l[random_n] #chooses a random synonym\n",
    "                    word_n = word.replace(word,v_random)#replaces word with synonym\n",
    "                    n_word += word_n +\" \"\n",
    "                else:\n",
    "                    n_word += syns_l+\" \"\n",
    "            else:\n",
    "                n_word += word+\" \"\n",
    "        else:\n",
    "            n_word += word+\" \"\n",
    "    return n_word\n",
    "    tester = False\n",
    "            \n",
    "         \n",
    "            #for key in diction:\n",
    "                #value = diction[key]\n",
    "                #if key == word:\n",
    "                   # random_n = random.randrange(0,len(value))\n",
    "#                    v_random = value[random_n]\n",
    "#                    word2 = word.replace(word,v_random)\n",
    "#                    n_word += word2\n",
    "#                    tester = True\n",
    "#            if tester == False:\n",
    "#                n_word += word+\" \"\n",
    "#        return n_word\n",
    "#print(replace_sentence(\"I am happy\"))\n",
    "#try:\n",
    "#    print(replace_sentence(input(\"Enter a sentence: \")))\n",
    "#except:\n",
    "#    print(\"Please try again. \")\n",
    "#    print(replace_sentence(input(\"Enter a sentence: \")))\n",
    "#print(exceptions('yes'))\n",
    "print(replace_sentence(input(\"Enter a sentence; \")))\n",
    "if user_input.lower == 'done':\n",
    "    break\n",
    "else:\n",
    "    continue\n"
   ]
  },
  {
   "cell_type": "code",
   "execution_count": 8,
   "metadata": {},
   "outputs": [],
   "source": [
    "#def dont_break():\n",
    "#    while True:\n",
    "#        run = replace_sentence(input(\"Enter a sentence: \"))\n",
    "#        if run == ' ':\n",
    "#            dont_break()\n",
    "#        else:\n",
    "#            print(run)\n",
    "#            break"
   ]
  },
  {
   "cell_type": "code",
   "execution_count": 9,
   "metadata": {},
   "outputs": [
    {
     "name": "stdout",
     "output_type": "stream",
     "text": [
      "Enter a sentence: nfgfhjfghg kjmhgnbf\n",
      "nfgfhjfghg kjmhgnbf \n"
     ]
    }
   ],
   "source": [
    "dont_break()"
   ]
  },
  {
   "cell_type": "code",
   "execution_count": null,
   "metadata": {},
   "outputs": [],
   "source": [
    "if user_input.lower == 'done':\n",
    "    break\n",
    "else:\n",
    "    continue"
   ]
  }
 ],
 "metadata": {
  "kernelspec": {
   "display_name": "Python 3",
   "language": "python",
   "name": "python3"
  },
  "language_info": {
   "codemirror_mode": {
    "name": "ipython",
    "version": 3
   },
   "file_extension": ".py",
   "mimetype": "text/x-python",
   "name": "python",
   "nbconvert_exporter": "python",
   "pygments_lexer": "ipython3",
   "version": "3.6.6"
  }
 },
 "nbformat": 4,
 "nbformat_minor": 2
}
